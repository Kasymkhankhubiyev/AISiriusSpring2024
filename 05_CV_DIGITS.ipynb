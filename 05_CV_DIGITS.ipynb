{
 "cells": [
  {
   "cell_type": "code",
   "execution_count": 17,
   "metadata": {},
   "outputs": [],
   "source": [
    "import os\n",
    "import numpy as np\n",
    "import pandas as pd\n",
    "\n",
    "import random\n",
    "\n",
    "# visulization\n",
    "import matplotlib.pyplot as plt\n",
    "import seaborn as sns"
   ]
  },
  {
   "cell_type": "code",
   "execution_count": 2,
   "metadata": {},
   "outputs": [],
   "source": [
    "digits = np.loadtxt('./NN_digits_train.csv', delimiter=',', dtype=int, skiprows=1)"
   ]
  },
  {
   "cell_type": "code",
   "execution_count": 5,
   "metadata": {},
   "outputs": [],
   "source": [
    "classes = digits[:, 0]\n",
    "pixels = digits[:, 1:]"
   ]
  },
  {
   "cell_type": "code",
   "execution_count": 22,
   "metadata": {},
   "outputs": [],
   "source": [
    "pixels = pixels / 255"
   ]
  },
  {
   "cell_type": "markdown",
   "metadata": {},
   "source": [
    "---\n",
    "exploring data"
   ]
  },
  {
   "cell_type": "code",
   "execution_count": 23,
   "metadata": {},
   "outputs": [
    {
     "data": {
      "image/png": "[encoded data removed]",
      "text/plain": [
       "<Figure size 640x480 with 8 Axes>"
      ]
     },
     "metadata": {},
     "output_type": "display_data"
    }
   ],
   "source": [
    "fig, axs = plt.subplots(nrows=2, ncols=4)\n",
    "\n",
    "for i in range(8):\n",
    "    idx = random.randint(0, len(pixels)-1)\n",
    "    axs[i//4, i%4].set_title(classes[idx])\n",
    "    axs[i//4, i%4].imshow(pixels[idx].reshape(28, 28), cmap='gray')\n",
    "plt.tight_layout()\n",
    "plt.show() "
   ]
  },
  {
   "cell_type": "markdown",
   "metadata": {},
   "source": [
    "---\n",
    "how convolutions work"
   ]
  },
  {
   "cell_type": "code",
   "execution_count": 24,
   "metadata": {},
   "outputs": [],
   "source": [
    "from scipy.ndimage import convolve"
   ]
  },
  {
   "cell_type": "code",
   "execution_count": 25,
   "metadata": {},
   "outputs": [],
   "source": [
    "i = 1000\n",
    "img = pixels[i].reshape(28, 28)"
   ]
  },
  {
   "cell_type": "code",
   "execution_count": 26,
   "metadata": {},
   "outputs": [
    {
     "data": {
      "text/plain": [
       "<matplotlib.image.AxesImage at 0x139c61100>"
      ]
     },
     "execution_count": 26,
     "metadata": {},
     "output_type": "execute_result"
    },
    {
     "data": {
      "image/png": "[encoded data removed]",
      "text/plain": [
       "<Figure size 200x200 with 1 Axes>"
      ]
     },
     "metadata": {},
     "output_type": "display_data"
    }
   ],
   "source": [
    "plt.figure(figsize=(2,2))\n",
    "plt.imshow(img, cmap='gray')"
   ]
  },
  {
   "cell_type": "code",
   "execution_count": 34,
   "metadata": {},
   "outputs": [],
   "source": [
    "def convolve2d(image, kernel, stride=1, padding=0):\n",
    "    image = np.pad(image, [(padding, padding), (padding, padding)], mode='constant', constant_values=0)\n",
    "\n",
    "    kernel_height, kernel_width = kernel.shape\n",
    "    padded_height, padded_width = image.shape\n",
    "\n",
    "    output_height = (padded_height - kernel_height) // stride + 1\n",
    "    output_width = (padded_width - kernel_width) // stride + 1\n",
    "\n",
    "    new_image = np.zeros((output_height, output_width)).astype(np.float32)\n",
    "\n",
    "    for y in range(0, output_height):\n",
    "        for x in range(0, output_width):\n",
    "            new_image[y][x] = np.sum(image[y * stride:y * stride + kernel_height, x * stride:x * stride + kernel_width] * kernel).astype(np.float32)\n",
    "    return new_image"
   ]
  },
  {
   "cell_type": "code",
   "execution_count": 41,
   "metadata": {},
   "outputs": [],
   "source": [
    "KERNEL_SIZE = (9, 9)\n",
    "NUM = 81"
   ]
  },
  {
   "cell_type": "code",
   "execution_count": 42,
   "metadata": {},
   "outputs": [],
   "source": [
    "# vertical kernels\n",
    "kernel0 = np.zeros(KERNEL_SIZE)\n",
    "kernel0[:, 0] = 1\n",
    "kernel0 /= NUM\n",
    "\n",
    "kernel1 = np.zeros(KERNEL_SIZE)\n",
    "kernel1[:, 4] = 1\n",
    "kernel1 /= NUM\n",
    "\n",
    "kernel2 = np.zeros(KERNEL_SIZE)\n",
    "kernel2[:, 8] = 1\n",
    "kernel2 /= NUM"
   ]
  },
  {
   "cell_type": "code",
   "execution_count": 43,
   "metadata": {},
   "outputs": [],
   "source": [
    "# vertical kernels\n",
    "kernel3 = np.zeros(KERNEL_SIZE)\n",
    "kernel3[0, :] = 1\n",
    "kernel3 /= NUM\n",
    "\n",
    "kernel4 = np.zeros(KERNEL_SIZE)\n",
    "kernel4[4, :] = 1\n",
    "kernel4 /= NUM\n",
    "\n",
    "kernel5 = np.zeros(KERNEL_SIZE)\n",
    "kernel5[8, :] = 1\n",
    "kernel5 /= NUM"
   ]
  },
  {
   "cell_type": "code",
   "execution_count": 49,
   "metadata": {},
   "outputs": [],
   "source": [
    "# diagonal kernels\n",
    "kernel6 = np.zeros(KERNEL_SIZE)\n",
    "for i in range(KERNEL_SIZE[0]):\n",
    "    kernel6[i, i] = 1\n",
    "kernel6 /= NUM\n",
    "\n",
    "kernel7 = np.zeros(KERNEL_SIZE)\n",
    "for i in range(KERNEL_SIZE[0]):\n",
    "    kernel7[i, KERNEL_SIZE[0] - 1 - i] = 1\n",
    "kernel7 /= NUM\n",
    "\n",
    "kernel8 = np.zeros(KERNEL_SIZE)\n",
    "for i in range(KERNEL_SIZE[0]):\n",
    "    kernel8[i, i] = 1\n",
    "    kernel8[i, KERNEL_SIZE[0] - 1 - i] = 1\n",
    "kernel8 /= NUM"
   ]
  },
  {
   "cell_type": "code",
   "execution_count": 50,
   "metadata": {},
   "outputs": [
    {
     "data": {
      "text/plain": [
       "<matplotlib.image.AxesImage at 0x13fcd90a0>"
      ]
     },
     "execution_count": 50,
     "metadata": {},
     "output_type": "execute_result"
    },
    {
     "data": {
      "image/png": "[encoded data removed]",
      "text/plain": [
       "<Figure size 640x480 with 9 Axes>"
      ]
     },
     "metadata": {},
     "output_type": "display_data"
    }
   ],
   "source": [
    "fig, axs = plt.subplots(ncols=3, nrows=3)\n",
    "\n",
    "axs[0][0].imshow(convolve2d(img, kernel0), cmap='gray')\n",
    "axs[0][1].imshow(convolve2d(img, kernel1), cmap='gray')\n",
    "axs[0][2].imshow(convolve2d(img, kernel2), cmap='gray')\n",
    "\n",
    "axs[1][0].imshow(convolve2d(img, kernel3), cmap='gray')\n",
    "axs[1][1].imshow(convolve2d(img, kernel4), cmap='gray')\n",
    "axs[1][2].imshow(convolve2d(img, kernel5), cmap='gray')\n",
    "\n",
    "axs[2][0].imshow(convolve2d(img, kernel6), cmap='gray')\n",
    "axs[2][1].imshow(convolve2d(img, kernel7), cmap='gray')\n",
    "axs[2][2].imshow(convolve2d(img, kernel8), cmap='gray')"
   ]
  },
  {
   "cell_type": "code",
   "execution_count": null,
   "metadata": {},
   "outputs": [],
   "source": []
  },
  {
   "cell_type": "code",
   "execution_count": null,
   "metadata": {},
   "outputs": [],
   "source": []
  }
 ],
 "metadata": {
  "kernelspec": {
   "display_name": "my-venv",
   "language": "python",
   "name": "my-venv"
  },
  "language_info": {
   "codemirror_mode": {
    "name": "ipython",
    "version": 3
   },
   "file_extension": ".py",
   "mimetype": "text/x-python",
   "name": "python",
   "nbconvert_exporter": "python",
   "pygments_lexer": "ipython3",
   "version": "3.9.13"
  }
 },
 "nbformat": 4,
 "nbformat_minor": 2
}
